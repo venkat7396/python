{
  "nbformat": 4,
  "nbformat_minor": 0,
  "metadata": {
    "colab": {
      "name": "Assignment 2",
      "provenance": [],
      "authorship_tag": "ABX9TyO7gF5Lg9n7rX3RY9OHGKg5",
      "include_colab_link": true
    },
    "kernelspec": {
      "name": "python3",
      "display_name": "Python 3"
    }
  },
  "cells": [
    {
      "cell_type": "markdown",
      "metadata": {
        "id": "view-in-github",
        "colab_type": "text"
      },
      "source": [
        "<a href=\"https://colab.research.google.com/github/venkat7396/python/blob/master/Assignment_2.ipynb\" target=\"_parent\"><img src=\"https://colab.research.google.com/assets/colab-badge.svg\" alt=\"Open In Colab\"/></a>"
      ]
    },
    {
      "cell_type": "code",
      "metadata": {
        "id": "OIsdmSD2Tiz2",
        "colab_type": "code",
        "colab": {}
      },
      "source": [
        ""
      ],
      "execution_count": null,
      "outputs": []
    },
    {
      "cell_type": "markdown",
      "metadata": {
        "id": "1iFJPhB5TkSM",
        "colab_type": "text"
      },
      "source": [
        "1.\tWrite a Python program to find area of a circle using math function."
      ]
    },
    {
      "cell_type": "code",
      "metadata": {
        "id": "7y7NbgL0ULlz",
        "colab_type": "code",
        "colab": {}
      },
      "source": [
        "def area_of_circle(r): \n",
        "   a = r**2 * math.pi\n",
        "    return a\n",
        "\n",
        "r = float(input(\"Enter the radius of the circle: \"))\n",
        "print(\"%.2f\", area_of_circle(r))\n"
      ],
      "execution_count": null,
      "outputs": []
    },
    {
      "cell_type": "markdown",
      "metadata": {
        "id": "UMqc9xhRVglF",
        "colab_type": "text"
      },
      "source": [
        "2.\tWrite a program to find Area of Regular Polygon using math function."
      ]
    },
    {
      "cell_type": "code",
      "metadata": {
        "id": "5yOE2jHxVmWv",
        "colab_type": "code",
        "colab": {
          "base_uri": "https://localhost:8080/",
          "height": 68
        },
        "outputId": "2481b5d8-50f3-46da-9ab5-3378cac1b929"
      },
      "source": [
        "from math import tan, pi\n",
        "n_sides = int(input(\"Input number of sides: \"))\n",
        "s_length = float(input(\"Input the length of a side: \"))\n",
        "p_area = n_sides * (s_length ** 2) / (4 * tan(pi / n_sides))\n",
        "print(\"The area of the polygon is: \",p_area)"
      ],
      "execution_count": null,
      "outputs": [
        {
          "output_type": "stream",
          "text": [
            "Input number of sides: 4\n",
            "Input the length of a side: 6\n",
            "The area of the polygon is:  36.00000000000001\n"
          ],
          "name": "stdout"
        }
      ]
    },
    {
      "cell_type": "markdown",
      "metadata": {
        "id": "lCSA3XYFWRVl",
        "colab_type": "text"
      },
      "source": [
        "3.\tWrite a program to find  Area of a Segment of a Circle Formula using math function."
      ]
    },
    {
      "cell_type": "code",
      "metadata": {
        "id": "XXUT_A_dX7KO",
        "colab_type": "code",
        "colab": {
          "base_uri": "https://localhost:8080/",
          "height": 51
        },
        "outputId": "5956d04b-1759-48ad-aed0-3452117b3428"
      },
      "source": [
        "import math\n",
        "\n",
        "pi = 3.14159\n",
        "  \n",
        "# Function to find \n",
        "# area of segment \n",
        "def area_of_segment(radius, angle): \n",
        "    # Calculating area of sector \n",
        "        area_of_sector = pi * (radius * radius)  * (angle / 360) \n",
        "  \n",
        "    # Calculating area of triangle \n",
        "        area_of_triangle = 1 / 2 *  (radius * radius) * math.sin((angle * pi) / 180) \n",
        "        return(area_of_sector - area_of_triangle)\n",
        "\n",
        "  \n",
        "  \n",
        "# Driver Code \n",
        "radius = 10.0\n",
        "angle = 90.0\n",
        "print(\"Area of minor segment =\", \n",
        "       area_of_segment(radius, angle)) \n",
        "print(\"Area of major segment =\", \n",
        "      area_of_segment(radius, (360 - angle))) "
      ],
      "execution_count": null,
      "outputs": [
        {
          "output_type": "stream",
          "text": [
            "Area of minor segment = 28.53975000004401\n",
            "Area of major segment = 285.6192499996039\n"
          ],
          "name": "stdout"
        }
      ]
    },
    {
      "cell_type": "markdown",
      "metadata": {
        "id": "0ALVeS8eZm-O",
        "colab_type": "text"
      },
      "source": [
        "4.\tWrite a python program to shuffle list l1=[100,1,2,3,30,40,”hai”,”hello”]."
      ]
    },
    {
      "cell_type": "code",
      "metadata": {
        "id": "Sg7mhVJuZv7Q",
        "colab_type": "code",
        "colab": {
          "base_uri": "https://localhost:8080/",
          "height": 34
        },
        "outputId": "27275f00-00fb-4a55-a65f-de39bd51d7f5"
      },
      "source": [
        "from random import shuffle\n",
        "listl1=[100,1,2,3,30,40,'hai','hello']\n",
        "shuffle(listl1)\n",
        "print(listl1)"
      ],
      "execution_count": null,
      "outputs": [
        {
          "output_type": "stream",
          "text": [
            "[2, 1, 100, 'hello', 40, 'hai', 3, 30]\n"
          ],
          "name": "stdout"
        }
      ]
    },
    {
      "cell_type": "markdown",
      "metadata": {
        "id": "vE1jkQILHG77",
        "colab_type": "text"
      },
      "source": [
        "5.\tWrite a program to generate random numbers between 1,10000 and difference between each random number is 50."
      ]
    },
    {
      "cell_type": "code",
      "metadata": {
        "id": "I--T2mQSHMVt",
        "colab_type": "code",
        "colab": {}
      },
      "source": [
        "def Rand(start,end,num):\n",
        " res=[]\n",
        " for j in range(num):\n",
        "  res.append(random.randint(start,end))\n",
        "\n",
        "  return res\n",
        "  \n"
      ],
      "execution_count": null,
      "outputs": []
    },
    {
      "cell_type": "code",
      "metadata": {
        "id": "mG2xMZRJLqLB",
        "colab_type": "code",
        "colab": {}
      },
      "source": [
        "num=50\n",
        "start=1\n",
        "end=1000\n",
        "  print(Rand(start,end,num))"
      ],
      "execution_count": null,
      "outputs": []
    },
    {
      "cell_type": "markdown",
      "metadata": {
        "id": "qWMJHtMJMBY_",
        "colab_type": "text"
      },
      "source": [
        "\n"
      ]
    },
    {
      "cell_type": "markdown",
      "metadata": {
        "id": "as2cFE4qMTSJ",
        "colab_type": "text"
      },
      "source": [
        "6.\tWrite a python program by using math module to find\n",
        "i.\tSin600\n",
        "ii.\tcos(pi)\n",
        "iii.\ttan900\n",
        "iv.\tangle of sin(0.8660254037844386)\n",
        "v.\t5^8\n",
        "vi.\tSquare root of 400\n",
        "vii.\tThe value of 5^e\n",
        "viii.\tThe value of Log(1024), base 2\n",
        "ix.\tThe value of Log(1024), base 10\n",
        "x.\tThe Floor and Ceiling value of 23.56 \n"
      ]
    },
    {
      "cell_type": "code",
      "metadata": {
        "id": "k1f3mPIBMUxJ",
        "colab_type": "code",
        "colab": {
          "base_uri": "https://localhost:8080/",
          "height": 34
        },
        "outputId": "2623848a-3b7c-407c-fc43-48afa0c57bc9"
      },
      "source": [
        "#1.sin60\n",
        "\n",
        "from math import sin\n",
        "\n",
        "sin_60=sin(60)\n",
        "print('the sin of 60',sin_60)"
      ],
      "execution_count": null,
      "outputs": [
        {
          "output_type": "stream",
          "text": [
            "the sin of 60 -0.3048106211022167\n"
          ],
          "name": "stdout"
        }
      ]
    },
    {
      "cell_type": "code",
      "metadata": {
        "id": "PjYyGOZZN5kM",
        "colab_type": "code",
        "colab": {
          "base_uri": "https://localhost:8080/",
          "height": 34
        },
        "outputId": "4bcecbfb-d511-4b4e-e8c6-1e62a2698bbc"
      },
      "source": [
        "#cos(pi)\n",
        "\n",
        "import math  \n",
        "    \n",
        "a = math.pi / 6\n",
        "     \n",
        "# returning the value of cosine of pi / 6  \n",
        "print (\"The value of cosine of pi / 6 is : \", end =\"\")  \n",
        "print (math.cos(a))  \n",
        "\n",
        "\n"
      ],
      "execution_count": null,
      "outputs": [
        {
          "output_type": "stream",
          "text": [
            "The value of cosine of pi / 6 is : 0.8660254037844387\n"
          ],
          "name": "stdout"
        }
      ]
    },
    {
      "cell_type": "code",
      "metadata": {
        "id": "LxrJ1UKqPNnG",
        "colab_type": "code",
        "colab": {
          "base_uri": "https://localhost:8080/",
          "height": 34
        },
        "outputId": "bd7778c7-32d8-4a8b-ba0a-2d7abea04fd7"
      },
      "source": [
        "#tan90\n",
        "from math import tan\n",
        "\n",
        "tan_90=tan(90)\n",
        "print('the tan of 90',tan_90)"
      ],
      "execution_count": null,
      "outputs": [
        {
          "output_type": "stream",
          "text": [
            "the tan of 90 -1.995200412208242\n"
          ],
          "name": "stdout"
        }
      ]
    },
    {
      "cell_type": "code",
      "metadata": {
        "id": "U5ZUwHVlUNmC",
        "colab_type": "code",
        "colab": {}
      },
      "source": [
        "#angle of sin(0.8660254037844386\n",
        "def sin(a):\n",
        " \n",
        "  return sin(a)\n",
        "print(sin(90))"
      ],
      "execution_count": null,
      "outputs": []
    }
  ]
}
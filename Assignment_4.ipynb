{
  "nbformat": 4,
  "nbformat_minor": 0,
  "metadata": {
    "colab": {
      "name": "Assignment 4",
      "provenance": [],
      "authorship_tag": "ABX9TyO2M+Pj+5OubMQvh6Xx3zL/",
      "include_colab_link": true
    },
    "kernelspec": {
      "name": "python3",
      "display_name": "Python 3"
    }
  },
  "cells": [
    {
      "cell_type": "markdown",
      "metadata": {
        "id": "view-in-github",
        "colab_type": "text"
      },
      "source": [
        "<a href=\"https://colab.research.google.com/github/venkat7396/python/blob/master/Assignment_4.ipynb\" target=\"_parent\"><img src=\"https://colab.research.google.com/assets/colab-badge.svg\" alt=\"Open In Colab\"/></a>"
      ]
    },
    {
      "cell_type": "markdown",
      "metadata": {
        "id": "yKNsvMm5z7k4",
        "colab_type": "text"
      },
      "source": [
        "Write a program that prints the integers from 1 to 100. But for multiples of\n",
        "three print \"Fizz\" instead of the number, and for the multiples of five print\n",
        "\"Buzz\". For numbers which are multiples of both three and five print\n",
        "\"FizzBuzz\"."
      ]
    },
    {
      "cell_type": "code",
      "metadata": {
        "id": "-Y5PFA4vzR86",
        "colab_type": "code",
        "colab": {}
      },
      "source": [
        "for fizzbuzz in range(100):  \n",
        " if fizzbuzz % 15 == 0:  \n",
        "        print(\"FizzBuzz\")                                          \n",
        "        continue\n",
        "    elif fizzbuzz % 3 == 0:      \n",
        "        print(\"Fizz\")                                          \n",
        "        continue\n",
        "    elif fizzbuzz % 5 == 0:          \n",
        "        print(\"Buzz\")                                      \n",
        "        continue\n",
        "            print(fizzbuzz) \n",
        "   "
      ],
      "execution_count": null,
      "outputs": []
    },
    {
      "cell_type": "markdown",
      "metadata": {
        "id": "aH9-w_Rs1HBQ",
        "colab_type": "text"
      },
      "source": [
        "Write a python program to find unique element from a list."
      ]
    },
    {
      "cell_type": "markdown",
      "metadata": {
        "id": "N6qCXEvmz50C",
        "colab_type": "text"
      },
      "source": [
        ""
      ]
    },
    {
      "cell_type": "code",
      "metadata": {
        "id": "1zw94ZiV2EYk",
        "colab_type": "code",
        "colab": {}
      },
      "source": [
        "def unique(A):\n",
        "   # intilize a null list\n",
        "   uniquevalues = []\n",
        "\n",
        "   # traversing the list\n",
        "   for i in A:\n",
        "   # check unique valueis present or not\n",
        "      if i not in uniquevalues:\n",
        "         uniquevalues.append(i)\n",
        "      # print (A)\n",
        "      for i in uniquevalues:\n",
        "         print (i),\n",
        "\n",
        "      # Driver code\n",
        "      A=list()\n",
        "      n=int(input(\"Enter the size of the List ::\"))\n",
        "      print(\"Enter the Element of List ::\")\n",
        "      for i in range(int(n)):\n",
        "         k=int(input(\"\"))\n",
        "         A.append(k)\n",
        "\n",
        "         print(\"The unique values from the List is ::>\")   \n",
        "\n"
      ],
      "execution_count": null,
      "outputs": []
    },
    {
      "cell_type": "markdown",
      "metadata": {
        "id": "I-zlk21vQRoD",
        "colab_type": "text"
      },
      "source": [
        "4.Write a function that checks whether a number is in a given range (inclusive of\n",
        "high and low)"
      ]
    },
    {
      "cell_type": "code",
      "metadata": {
        "id": "SFRWfM-SQmG8",
        "colab_type": "code",
        "colab": {}
      },
      "source": [
        "def ran_check(num,low,high):\n",
        "    for i in range(low,high+1):\n",
        "        if num==i:\n",
        "          print('Number is within the range')\n",
        "          break\n",
        "    else :\n",
        "            print('Number is out of range')\n"
      ],
      "execution_count": 9,
      "outputs": []
    },
    {
      "cell_type": "markdown",
      "metadata": {
        "id": "8M4izvkXSSSH",
        "colab_type": "text"
      },
      "source": [
        "5.Write a Python function that accepts a string and calculates the number of\n",
        "upper case letters and lower case letters.\n",
        "Sample String : 'Hello Mr. Rogers, how are you this fine Tuesday?'\n",
        "Expected Output :\n",
        "No. of Upper case characters : 4\n",
        "No. of Lower case Characters : 33\n",
        "HINT: Two string methods that might prove useful .isupper() and."
      ]
    },
    {
      "cell_type": "code",
      "metadata": {
        "id": "bYT28HgWSj39",
        "colab_type": "code",
        "colab": {
          "base_uri": "https://localhost:8080/",
          "height": 68
        },
        "outputId": "626940c7-bc08-43ce-d0ea-778bea862934"
      },
      "source": [
        "def string_test(s):\n",
        "    d={\"UPPER_CASE\":0, \"LOWER_CASE\":0}\n",
        "    for c in s:\n",
        "        if c.isupper():\n",
        "           d[\"UPPER_CASE\"]+=1\n",
        "        elif c.islower():\n",
        "           d[\"LOWER_CASE\"]+=1\n",
        "        else:\n",
        "           pass\n",
        "    print (\"Original String : \", s)\n",
        "    print (\"No. of Upper case characters : \", d[\"UPPER_CASE\"])\n",
        "    print (\"No. of Lower case Characters : \", d[\"LOWER_CASE\"])\n",
        "\n",
        "string_test('The quick Brown Fox')"
      ],
      "execution_count": 10,
      "outputs": [
        {
          "output_type": "stream",
          "text": [
            "Original String :  The quick Brown Fox\n",
            "No. of Upper case characters :  3\n",
            "No. of Lower case Characters :  13\n"
          ],
          "name": "stdout"
        }
      ]
    }
  ]
}
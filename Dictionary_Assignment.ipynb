{
  "nbformat": 4,
  "nbformat_minor": 0,
  "metadata": {
    "colab": {
      "name": "Dictionary Assignment",
      "provenance": [],
      "authorship_tag": "ABX9TyPpFte8BMgWp5gee6McsNWx",
      "include_colab_link": true
    },
    "kernelspec": {
      "name": "python3",
      "display_name": "Python 3"
    }
  },
  "cells": [
    {
      "cell_type": "markdown",
      "metadata": {
        "id": "view-in-github",
        "colab_type": "text"
      },
      "source": [
        "<a href=\"https://colab.research.google.com/github/venkat7396/python/blob/master/Dictionary_Assignment.ipynb\" target=\"_parent\"><img src=\"https://colab.research.google.com/assets/colab-badge.svg\" alt=\"Open In Colab\"/></a>"
      ]
    },
    {
      "cell_type": "markdown",
      "metadata": {
        "id": "zKSemjtmIwaB",
        "colab_type": "text"
      },
      "source": [
        "v1.\tWhat is dictionary in Python? Explain with an example"
      ]
    },
    {
      "cell_type": "markdown",
      "metadata": {
        "id": "j0xbJp82LAsU",
        "colab_type": "text"
      },
      "source": [
        "It is an unordered sequence data structure. Dictionaries are denoted by curly braces { }. It is a collection of various key:value pairs."
      ]
    },
    {
      "cell_type": "code",
      "metadata": {
        "id": "FxT4v9wOLBvr",
        "colab_type": "code",
        "colab": {
          "base_uri": "https://localhost:8080/",
          "height": 34
        },
        "outputId": "50f44804-84a1-42ca-a54e-519dad9a72a8"
      },
      "source": [
        "dict1 = {\"one\":1,\"two\":2,\"three\":3}\n",
        "print(\"Dictionary:\",dict1)\n",
        "Dictionary: {'one': 1, 'two': 2, 'three': 3}\n"
      ],
      "execution_count": 1,
      "outputs": [
        {
          "output_type": "stream",
          "text": [
            "Dictionary: {'one': 1, 'two': 2, 'three': 3}\n"
          ],
          "name": "stdout"
        }
      ]
    },
    {
      "cell_type": "markdown",
      "metadata": {
        "id": "8fhkGbKGLLqQ",
        "colab_type": "text"
      },
      "source": [
        "2.Program to sum all the items in a list.\n"
      ]
    },
    {
      "cell_type": "code",
      "metadata": {
        "id": "l-aUcUMjLPfN",
        "colab_type": "code",
        "colab": {
          "base_uri": "https://localhost:8080/",
          "height": 34
        },
        "outputId": "c5a43187-3cf4-47ed-e7f2-74234c297733"
      },
      "source": [
        "def sum_list(list1):\n",
        "  sum = 0\n",
        "  for item in list1:\n",
        "    sum = sum + item\n",
        "  print(\"Sum of all the items in the given list is:\",sum)\n",
        "sum_list([1,2,3,4,5,6,7,8,9,10])\n"
      ],
      "execution_count": 3,
      "outputs": [
        {
          "output_type": "stream",
          "text": [
            "Sum of all the items in the given list is: 55\n"
          ],
          "name": "stdout"
        }
      ]
    },
    {
      "cell_type": "markdown",
      "metadata": {
        "id": "UBV4u4bFLswj",
        "colab_type": "text"
      },
      "source": [
        "3.Program to create a list of empty dictionaries.\n"
      ]
    },
    {
      "cell_type": "code",
      "metadata": {
        "id": "0QZ7963fLxPV",
        "colab_type": "code",
        "colab": {
          "base_uri": "https://localhost:8080/",
          "height": 51
        },
        "outputId": "59282145-6951-41bc-b2ff-a435f4f0ea68"
      },
      "source": [
        "n = int(input(\"Enter number of empty dictionaries: \"))\n",
        "eptdict = {}\n",
        "eptlist = [eptdict] * n\n",
        "print(\"List of\",n,\"empty dictionaries:\",eptlist)"
      ],
      "execution_count": 4,
      "outputs": [
        {
          "output_type": "stream",
          "text": [
            "Enter number of empty dictionaries: 3\n",
            "List of 3 empty dictionaries: [{}, {}, {}]\n"
          ],
          "name": "stdout"
        }
      ]
    },
    {
      "cell_type": "markdown",
      "metadata": {
        "id": "aMtqCtN-MESO",
        "colab_type": "text"
      },
      "source": [
        "4. Program to access dictionary keys element by index.\n"
      ]
    },
    {
      "cell_type": "code",
      "metadata": {
        "id": "l-aU09i7MFGD",
        "colab_type": "code",
        "colab": {
          "base_uri": "https://localhost:8080/",
          "height": 153
        },
        "outputId": "dc11d46d-bf78-4405-ee6f-1021d3e9a29d"
      },
      "source": [
        "dict1 = {\"Violet\":1, \"Indigo\":2, \"Blue\":3, \"Green\":4, \"Yellow\":5, \"Orange\":6,\"Red\":6}\n",
        "print(\"Given dictionary:\",dict1)\n",
        "list1 = list(dict1)\n",
        "index = 0\n",
        "for item in list1:\n",
        "  print(\"Index \",index,\"has:\",list1[index])\n",
        "  index = index + 1"
      ],
      "execution_count": 6,
      "outputs": [
        {
          "output_type": "stream",
          "text": [
            "Given dictionary: {'Violet': 1, 'Indigo': 2, 'Blue': 3, 'Green': 4, 'Yellow': 5, 'Orange': 6, 'Red': 6}\n",
            "Index  0 has: Violet\n",
            "Index  1 has: Indigo\n",
            "Index  2 has: Blue\n",
            "Index  3 has: Green\n",
            "Index  4 has: Yellow\n",
            "Index  5 has: Orange\n",
            "Index  6 has: Red\n"
          ],
          "name": "stdout"
        }
      ]
    },
    {
      "cell_type": "markdown",
      "metadata": {
        "id": "F_TY2SmZMRsc",
        "colab_type": "text"
      },
      "source": [
        "5.Program to iterate over dictionaries using for loops.\n"
      ]
    },
    {
      "cell_type": "code",
      "metadata": {
        "id": "cncKqqJkMT_m",
        "colab_type": "code",
        "colab": {
          "base_uri": "https://localhost:8080/",
          "height": 442
        },
        "outputId": "f36135b4-52a5-4faa-f5b2-f5d1554ac8fc"
      },
      "source": [
        "dict1 = {\"Violet\":1, \"Indigo\":2, \"Blue\":3, \"Green\":4, \"Yellow\":5, \"Orange\":6,\"Red\":6}\n",
        "print(\"Given dictionary:\",dict1)\n",
        "print(\"Keys present in the given dictionary:\")\n",
        "for item in dict1:\n",
        "  print(item)\n",
        "\n",
        "print(\"Values present in the given dictionary:\")\n",
        "for item in dict1.values():\n",
        "  print(item)\n",
        "\n",
        "print(\"Key:Value pairs in the given dictionary:\")\n",
        "for (k,v) in dict1.items():\n",
        "  print(k,\":\",v)"
      ],
      "execution_count": 7,
      "outputs": [
        {
          "output_type": "stream",
          "text": [
            "Given dictionary: {'Violet': 1, 'Indigo': 2, 'Blue': 3, 'Green': 4, 'Yellow': 5, 'Orange': 6, 'Red': 6}\n",
            "Keys present in the given dictionary:\n",
            "Violet\n",
            "Indigo\n",
            "Blue\n",
            "Green\n",
            "Yellow\n",
            "Orange\n",
            "Red\n",
            "Values present in the given dictionary:\n",
            "1\n",
            "2\n",
            "3\n",
            "4\n",
            "5\n",
            "6\n",
            "6\n",
            "Key:Value pairs in the given dictionary:\n",
            "Violet : 1\n",
            "Indigo : 2\n",
            "Blue : 3\n",
            "Green : 4\n",
            "Yellow : 5\n",
            "Orange : 6\n",
            "Red : 6\n"
          ],
          "name": "stdout"
        }
      ]
    },
    {
      "cell_type": "markdown",
      "metadata": {
        "id": "nAFwpUcwMd1V",
        "colab_type": "text"
      },
      "source": [
        "6. Program to sum all the items in a given dictionary.\n"
      ]
    },
    {
      "cell_type": "code",
      "metadata": {
        "id": "C3ufNDMIMegY",
        "colab_type": "code",
        "colab": {
          "base_uri": "https://localhost:8080/",
          "height": 68
        },
        "outputId": "30f77b79-2aa0-4f9c-ccdd-16490b293637"
      },
      "source": [
        "dict1 = {1:100, 2:200, 3:300, 4:400, 5:500}\n",
        "print(\"Given dictionary:\",dict1)\n",
        "sum=0\n",
        "for value in dict1.values():\n",
        "  sum = sum + value\n",
        "print(\"Sum of all the values in the given dictionary:\",sum)\n",
        "\n",
        "for key in dict1.keys():\n",
        "  sum = sum + key\n",
        "print(\"Sum of all keys in the given dictionary:\",sum)"
      ],
      "execution_count": 8,
      "outputs": [
        {
          "output_type": "stream",
          "text": [
            "Given dictionary: {1: 100, 2: 200, 3: 300, 4: 400, 5: 500}\n",
            "Sum of all the values in the given dictionary: 1500\n",
            "Sum of all keys in the given dictionary: 1515\n"
          ],
          "name": "stdout"
        }
      ]
    },
    {
      "cell_type": "markdown",
      "metadata": {
        "id": "VcuLdWdTMjPi",
        "colab_type": "text"
      },
      "source": [
        "7. Program to cocncatenate the following dictionaries and create a new one.\n"
      ]
    },
    {
      "cell_type": "code",
      "metadata": {
        "id": "5Jts7UEUMm2c",
        "colab_type": "code",
        "colab": {
          "base_uri": "https://localhost:8080/",
          "height": 34
        },
        "outputId": "8aeda490-7994-42d7-8ed1-561a0f99aa58"
      },
      "source": [
        "\n",
        "dict1 = {1:10, 2:20}\n",
        "dict2 = {3:30, 4:40}\n",
        "dict3 = {5:50, 6:60}\n",
        "dict2.update(dict3)\n",
        "dict1.update(dict2)\n",
        "print(\"Final result:\",dict1)"
      ],
      "execution_count": 9,
      "outputs": [
        {
          "output_type": "stream",
          "text": [
            "Final result: {1: 10, 2: 20, 3: 30, 4: 40, 5: 50, 6: 60}\n"
          ],
          "name": "stdout"
        }
      ]
    }
  ]
}
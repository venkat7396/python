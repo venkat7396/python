{
  "nbformat": 4,
  "nbformat_minor": 0,
  "metadata": {
    "colab": {
      "name": "Module 2 Python Assignment 3",
      "provenance": [],
      "collapsed_sections": [],
      "authorship_tag": "ABX9TyMOjS5jbP2gb6e3qRSfdEsA",
      "include_colab_link": true
    },
    "kernelspec": {
      "name": "python3",
      "display_name": "Python 3"
    }
  },
  "cells": [
    {
      "cell_type": "markdown",
      "metadata": {
        "id": "view-in-github",
        "colab_type": "text"
      },
      "source": [
        "<a href=\"https://colab.research.google.com/github/venkat7396/python/blob/master/Module_2_Python_Assignment_3.ipynb\" target=\"_parent\"><img src=\"https://colab.research.google.com/assets/colab-badge.svg\" alt=\"Open In Colab\"/></a>"
      ]
    },
    {
      "cell_type": "code",
      "metadata": {
        "id": "qce8RDfj2lKG",
        "colab_type": "code",
        "colab": {}
      },
      "source": [
        "1. write a python program  to find area of a circle using math function "
      ],
      "execution_count": null,
      "outputs": []
    },
    {
      "cell_type": "code",
      "metadata": {
        "id": "T96wn52P3U_e",
        "colab_type": "code",
        "colab": {
          "base_uri": "https://localhost:8080/",
          "height": 34
        },
        "outputId": "63de0d71-1502-4ada-8d9c-c0467377c61b"
      },
      "source": [
        "def findarea(r):\n",
        " pi=3.142\n",
        " return pi*(r*r)\n",
        "print('area  is %.6f', findarea(5))\n"
      ],
      "execution_count": null,
      "outputs": [
        {
          "output_type": "stream",
          "text": [
            "area  is %.6f 78.55\n"
          ],
          "name": "stdout"
        }
      ]
    },
    {
      "cell_type": "markdown",
      "metadata": {
        "id": "EqyfuWHs4O2K",
        "colab_type": "text"
      },
      "source": [
        "2. 2.\tWrite a program to find Area of Regular Polygon using math function."
      ]
    },
    {
      "cell_type": "code",
      "metadata": {
        "id": "1ILx6m6f4xSk",
        "colab_type": "code",
        "colab": {}
      },
      "source": [
        "from math import sin\n",
        "def polyarea(n,r):\n",
        "  if (r<0 and n<0):\n",
        "   return -1\n",
        "   a=(((r*r*n)*sin((360/n)*3.142/180))/2);\n",
        "   return round(a,3) "
      ],
      "execution_count": null,
      "outputs": []
    },
    {
      "cell_type": "code",
      "metadata": {
        "id": "ZprEH9Km50IF",
        "colab_type": "code",
        "colab": {
          "base_uri": "https://localhost:8080/",
          "height": 34
        },
        "outputId": "52d3db3f-ece4-4a5a-f752-165948d6b60a"
      },
      "source": [
        "if __name__ == '__main__':\n",
        "  r,n=9,6\n",
        "  print(polyarea(n,r))"
      ],
      "execution_count": null,
      "outputs": [
        {
          "output_type": "stream",
          "text": [
            "None\n"
          ],
          "name": "stdout"
        }
      ]
    },
    {
      "cell_type": "markdown",
      "metadata": {
        "id": "BCyz3Use7dZl",
        "colab_type": "text"
      },
      "source": [
        "3.\tWrite a program to find  Area of a Segment of a Circle Formula using math function."
      ]
    },
    {
      "cell_type": "code",
      "metadata": {
        "id": "vm3-2NR27oX8",
        "colab_type": "code",
        "colab": {}
      },
      "source": [
        "import math \n",
        "pi=3.142\n",
        "def area_of_segment(radius,angle):\n",
        "  area_of_sector=pi*(radius*radius)*(angle/360)\n",
        "  area_of_triangle=1/2*(radius*radius)*math.sin((angle*pi)/180)\n",
        "\n"
      ],
      "execution_count": 4,
      "outputs": []
    },
    {
      "cell_type": "code",
      "metadata": {
        "id": "sPtcNdHN_F1k",
        "colab_type": "code",
        "colab": {
          "base_uri": "https://localhost:8080/",
          "height": 51
        },
        "outputId": "9b331d7f-8ea6-4718-cd8b-fdd0e86c42e7"
      },
      "source": [
        "radius=10.0\n",
        "angle=90.0\n",
        "print('area of minor segment=',area_of_segment(radius,angle))\n",
        "print('area of major segment=',area_of_segment(radius,(360-angle)))"
      ],
      "execution_count": 5,
      "outputs": [
        {
          "output_type": "stream",
          "text": [
            "area of minor segment= None\n",
            "area of major segment= None\n"
          ],
          "name": "stdout"
        }
      ]
    },
    {
      "cell_type": "markdown",
      "metadata": {
        "id": "Jn2dV9MSTpfx",
        "colab_type": "text"
      },
      "source": [
        "4.4.\tWrite a python program to shuffle list l1=[100,1,2,3,30,40,”hai”,”hello”]."
      ]
    },
    {
      "cell_type": "code",
      "metadata": {
        "id": "Ra4Q9BE8TruJ",
        "colab_type": "code",
        "colab": {
          "base_uri": "https://localhost:8080/",
          "height": 34
        },
        "outputId": "5963259a-7230-4b90-a9b0-948fccaca50a"
      },
      "source": [
        "from  random import shuffle \n",
        "list= [100,1,2,30,40,'hai','hello']\n",
        "shuffle(list)\n",
        "print(list)"
      ],
      "execution_count": 6,
      "outputs": [
        {
          "output_type": "stream",
          "text": [
            "[1, 'hello', 30, 'hai', 40, 100, 2]\n"
          ],
          "name": "stdout"
        }
      ]
    },
    {
      "cell_type": "markdown",
      "metadata": {
        "id": "vfqr_2OdWQa9",
        "colab_type": "text"
      },
      "source": [
        "5.\tWrite a program to generate random numbers between 1,10000 and difference between each random number is 50."
      ]
    },
    {
      "cell_type": "code",
      "metadata": {
        "id": "BGTo9EfBWR5l",
        "colab_type": "code",
        "colab": {}
      },
      "source": [
        "import random\n",
        "def rand(start,end,num):\n",
        "  res=[]\n",
        "  for j in range(num):\n",
        "    res.append(random.randint(start,end))\n",
        "    return res"
      ],
      "execution_count": 10,
      "outputs": []
    },
    {
      "cell_type": "code",
      "metadata": {
        "id": "49tOzd47Yc3C",
        "colab_type": "code",
        "colab": {
          "base_uri": "https://localhost:8080/",
          "height": 34
        },
        "outputId": "136d7b41-1906-4a44-c294-9750b15a43f4"
      },
      "source": [
        "num=1\n",
        "start=50\n",
        "end=1000\n",
        "print(rand(start,end,num))\n"
      ],
      "execution_count": 12,
      "outputs": [
        {
          "output_type": "stream",
          "text": [
            "[459]\n"
          ],
          "name": "stdout"
        }
      ]
    }
  ]
}
{
  "nbformat": 4,
  "nbformat_minor": 0,
  "metadata": {
    "colab": {
      "name": "Module python assignment 2",
      "provenance": [],
      "authorship_tag": "ABX9TyNBrPBXAOrhkhi6EOKCU4b6",
      "include_colab_link": true
    },
    "kernelspec": {
      "name": "python3",
      "display_name": "Python 3"
    }
  },
  "cells": [
    {
      "cell_type": "markdown",
      "metadata": {
        "id": "view-in-github",
        "colab_type": "text"
      },
      "source": [
        "<a href=\"https://colab.research.google.com/github/venkat7396/python/blob/master/Module_python_assignment_2.ipynb\" target=\"_parent\"><img src=\"https://colab.research.google.com/assets/colab-badge.svg\" alt=\"Open In Colab\"/></a>"
      ]
    },
    {
      "cell_type": "code",
      "metadata": {
        "id": "qoYKaDR9uxk4",
        "colab_type": "code",
        "colab": {}
      },
      "source": [
        ""
      ],
      "execution_count": null,
      "outputs": []
    },
    {
      "cell_type": "markdown",
      "metadata": {
        "id": "szzL-pm8uyts",
        "colab_type": "text"
      },
      "source": [
        "write a python function to find the max of three number"
      ]
    },
    {
      "cell_type": "code",
      "metadata": {
        "id": "qOPL7BwyvHb-",
        "colab_type": "code",
        "colab": {}
      },
      "source": [
        "def maximum(a,b,c):\n",
        "  if (a>=b) and (a>=c):\n",
        "    largest=a\n",
        "  elif (b>=a) and (b>=c):\n",
        "    largest=b\n",
        "  else:\n",
        "    largest=c\n",
        "  return largest "
      ],
      "execution_count": 7,
      "outputs": []
    },
    {
      "cell_type": "code",
      "metadata": {
        "id": "U_I5j4PxwZaV",
        "colab_type": "code",
        "colab": {
          "base_uri": "https://localhost:8080/",
          "height": 34
        },
        "outputId": "5412b4b5-f419-4884-b4fe-9aff5eccb04f"
      },
      "source": [
        "a=10\n",
        "b=14\n",
        "c=12\n",
        "print(maximum(a,b,c))"
      ],
      "execution_count": 5,
      "outputs": [
        {
          "output_type": "stream",
          "text": [
            "14\n"
          ],
          "name": "stdout"
        }
      ]
    },
    {
      "cell_type": "markdown",
      "metadata": {
        "id": "V29UcB_0w65P",
        "colab_type": "text"
      },
      "source": [
        "2. write  a python program to reverse a string"
      ]
    },
    {
      "cell_type": "code",
      "metadata": {
        "id": "-6BcazdNxdTn",
        "colab_type": "code",
        "colab": {}
      },
      "source": [
        "def reverse(s):\n",
        "  str =''\n",
        "  for i in s:\n",
        "    str = i+str\n",
        "  return str "
      ],
      "execution_count": 8,
      "outputs": []
    },
    {
      "cell_type": "code",
      "metadata": {
        "id": "I_dx15tDyqbt",
        "colab_type": "code",
        "colab": {
          "base_uri": "https://localhost:8080/",
          "height": 51
        },
        "outputId": "14277350-6579-4198-90da-904b996fd81a"
      },
      "source": [
        "s='Greekforgeeks'\n",
        "print('the original string is:',end=\"\")\n",
        "print(s)\n",
        "print('the reversed string(using loop) is:',end='')\n",
        "print(reverse(s))"
      ],
      "execution_count": 9,
      "outputs": [
        {
          "output_type": "stream",
          "text": [
            "the original string is:Greekforgeeks\n",
            "the reversed string(using loop) is:skeegrofkeerG\n"
          ],
          "name": "stdout"
        }
      ]
    },
    {
      "cell_type": "markdown",
      "metadata": {
        "id": "z3aY3GKJzc1Y",
        "colab_type": "text"
      },
      "source": [
        "3.write  a python function to check whether the number is prime or not"
      ]
    },
    {
      "cell_type": "code",
      "metadata": {
        "id": "GT_jZA6yzuj7",
        "colab_type": "code",
        "colab": {
          "base_uri": "https://localhost:8080/",
          "height": 34
        },
        "outputId": "9accb0a2-6fa5-4d15-817f-a2b4f9d4355d"
      },
      "source": [
        "num=11\n",
        "if num>1:\n",
        "  for i in range(2,num):\n",
        "    if (num % i)==0:\n",
        "      print(num,\"is not a   prime \")\n",
        "      break \n",
        "  else:\n",
        "    print(num,'is a prime number')\n",
        "else:\n",
        "  print (num,'is not a prime number')\n",
        "  "
      ],
      "execution_count": 10,
      "outputs": [
        {
          "output_type": "stream",
          "text": [
            "11 is a prime number\n"
          ],
          "name": "stdout"
        }
      ]
    },
    {
      "cell_type": "markdown",
      "metadata": {
        "id": "0TsqrmMU0_OH",
        "colab_type": "text"
      },
      "source": [
        "4.write a python function to find sum of squares of a frist n natural numbers "
      ]
    },
    {
      "cell_type": "code",
      "metadata": {
        "id": "FFz8OO241QAO",
        "colab_type": "code",
        "colab": {}
      },
      "source": [
        "def squaresum(n):\n",
        " sm=0\n",
        " for i in range(1,n+1):\n",
        "   sm=sm+(i*i)\n",
        "   return sm \n",
        "  "
      ],
      "execution_count": 14,
      "outputs": []
    },
    {
      "cell_type": "code",
      "metadata": {
        "id": "sd8-xoqK2ICO",
        "colab_type": "code",
        "colab": {
          "base_uri": "https://localhost:8080/",
          "height": 34
        },
        "outputId": "501bbde9-5325-4e58-f3a8-4b44ed230883"
      },
      "source": [
        "n=4\n",
        "print(squaresum(n))"
      ],
      "execution_count": 15,
      "outputs": [
        {
          "output_type": "stream",
          "text": [
            "1\n"
          ],
          "name": "stdout"
        }
      ]
    }
  ]
}
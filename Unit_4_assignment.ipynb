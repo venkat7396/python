{
  "nbformat": 4,
  "nbformat_minor": 0,
  "metadata": {
    "colab": {
      "name": "Unit 4 assignment",
      "provenance": [],
      "authorship_tag": "ABX9TyNLpvJrwxZG8rZ83fVYcgBT",
      "include_colab_link": true
    },
    "kernelspec": {
      "name": "python3",
      "display_name": "Python 3"
    }
  },
  "cells": [
    {
      "cell_type": "markdown",
      "metadata": {
        "id": "view-in-github",
        "colab_type": "text"
      },
      "source": [
        "<a href=\"https://colab.research.google.com/github/venkat7396/python/blob/master/Unit_4_assignment.ipynb\" target=\"_parent\"><img src=\"https://colab.research.google.com/assets/colab-badge.svg\" alt=\"Open In Colab\"/></a>"
      ]
    },
    {
      "cell_type": "code",
      "metadata": {
        "id": "PHu90oGZYuOK",
        "colab_type": "code",
        "colab": {}
      },
      "source": [
        ""
      ],
      "execution_count": null,
      "outputs": []
    },
    {
      "cell_type": "markdown",
      "metadata": {
        "id": "uEQjVqibZkpA",
        "colab_type": "text"
      },
      "source": [
        "1. Write a Python program to read an entire text file."
      ]
    },
    {
      "cell_type": "code",
      "metadata": {
        "id": "t04n9asTbs-L",
        "colab_type": "code",
        "colab": {
          "base_uri": "https://localhost:8080/",
          "height": 136
        },
        "outputId": "ddaec6a6-f897-4eb5-f44b-c6f7771453ed"
      },
      "source": [
        "file1 = open(\"myfile.txt\",\"w\") \n",
        "L = [\"This is Delhi \\n\",\"This is Paris \\n\",\"This is London \\n\"]  \n",
        "  \n",
        "# \\n is placed to indicate EOL (End of Line) \n",
        "file1.write(\"Hello \\n\") \n",
        "file1.writelines(L) \n",
        "file1.close() #to change file access modes \n",
        "  \n",
        "file1 = open(\"myfile.txt\",\"r+\")  \n",
        "  \n",
        "print (\"Output of Read function is \")\n",
        "print (file1.read()) \n",
        "print\n"
      ],
      "execution_count": null,
      "outputs": [
        {
          "output_type": "stream",
          "text": [
            "Output of Read function is \n",
            "Hello \n",
            "This is Delhi \n",
            "This is Paris \n",
            "This is London \n",
            "\n"
          ],
          "name": "stdout"
        },
        {
          "output_type": "execute_result",
          "data": {
            "text/plain": [
              "<function print>"
            ]
          },
          "metadata": {
            "tags": []
          },
          "execution_count": 21
        }
      ]
    },
    {
      "cell_type": "markdown",
      "metadata": {
        "id": "NjhM8-USdO3F",
        "colab_type": "text"
      },
      "source": [
        "Write a Python program to read first n lines of a file"
      ]
    },
    {
      "cell_type": "code",
      "metadata": {
        "id": "XcuEjcz3qW-B",
        "colab_type": "code",
        "colab": {}
      },
      "source": [
        "def LastNlines(fname, N):\n",
        "  with open(fname) as file: \n",
        "      for line in (file.readlines() [-N:]): \n",
        "         print(line, end ='') \n",
        "  if __name__ == '__main__': \n",
        "     fname = 'File1.txt'\n",
        "     N = 3\n",
        "     try: \n",
        "           LastNlines(fname, N) \n",
        "     except: \n",
        "        print('File not found')\n",
        "\n"
      ],
      "execution_count": 19,
      "outputs": []
    },
    {
      "cell_type": "markdown",
      "metadata": {
        "id": "k_lho6anrpAP",
        "colab_type": "text"
      },
      "source": [
        "3. Write a Python program to append text to a file and display the text. "
      ]
    },
    {
      "cell_type": "code",
      "metadata": {
        "id": "x1ycNeN6rqRu",
        "colab_type": "code",
        "colab": {
          "base_uri": "https://localhost:8080/",
          "height": 51
        },
        "outputId": "7efd3b57-a15d-4007-8067-850f94ed5921"
      },
      "source": [
        "def file_read(fname):\n",
        "        from itertools import islice\n",
        "        with open(fname, \"w\") as myfile:\n",
        "                myfile.write(\"Python Exercises\\n\")\n",
        "                myfile.write(\"Java Exercises\")\n",
        "        txt = open(fname)\n",
        "        print(txt.read())\n",
        "file_read('abc.txt')\n"
      ],
      "execution_count": 20,
      "outputs": [
        {
          "output_type": "stream",
          "text": [
            "Python Exercises\n",
            "Java Exercises\n"
          ],
          "name": "stdout"
        }
      ]
    },
    {
      "cell_type": "markdown",
      "metadata": {
        "id": "7ZZXLzvQrzG-",
        "colab_type": "text"
      },
      "source": [
        "4. Write a Python program to read last n lines of a file.\n"
      ]
    },
    {
      "cell_type": "code",
      "metadata": {
        "id": "x2ny-_m2sM09",
        "colab_type": "code",
        "colab": {}
      },
      "source": [
        "import sys\n",
        "import os\n",
        "def file_read_from_tail(fname,lines):\n",
        "        bufsize = 8192\n",
        "        fsize = os.stat(fname).st_size\n",
        "        iter = 0\n",
        "        with open(fname) as f:\n",
        "                if bufsize > fsize:\n",
        "                        bufsize = fsize-1\n",
        "                        data = []\n",
        "                        while True:\n",
        "                                iter +=1\n",
        "                                f.seek(fsize-bufsize*iter)\n",
        "                                data.extend(f.readlines())\n",
        "                                if len(data) >= lines or f.tell() == 0:\n",
        "                                        print(''.join(data[-lines:]))\n",
        "                                        break\n",
        "\n",
        "file_read_from_tail('test.txt',2)\n"
      ],
      "execution_count": null,
      "outputs": []
    },
    {
      "cell_type": "markdown",
      "metadata": {
        "id": "MhuWt4cZs3WA",
        "colab_type": "text"
      },
      "source": [
        "6. Write a Python program to read a file line by line and store it into a list. "
      ]
    },
    {
      "cell_type": "markdown",
      "metadata": {
        "id": "fbBM8NcQvQDV",
        "colab_type": "text"
      },
      "source": [
        ""
      ]
    },
    {
      "cell_type": "code",
      "metadata": {
        "id": "tMlAmI4BEVcX",
        "colab_type": "code",
        "colab": {}
      },
      "source": [
        "def file_read(fname):\n",
        "        with open (fname, \"r\") as myfile:\n",
        "                data=myfile.readlines()\n",
        "                print(data)\n",
        "file_read('test.txt')\n"
      ],
      "execution_count": null,
      "outputs": []
    },
    {
      "cell_type": "markdown",
      "metadata": {
        "id": "hdT3WhzyE-36",
        "colab_type": "text"
      },
      "source": [
        "Write a Python program to count the number of lines in a text file. "
      ]
    },
    {
      "cell_type": "code",
      "metadata": {
        "id": "0KyNfAfOFVa8",
        "colab_type": "code",
        "colab": {}
      },
      "source": [
        "fname = \"test.txt\"\n",
        "count = 0\n",
        "with open(fname, 'r') as f:\n",
        "    for line in f:\n",
        "        count += 1\n",
        "print(\"Total number of lines is:\", count)"
      ],
      "execution_count": null,
      "outputs": []
    },
    {
      "cell_type": "markdown",
      "metadata": {
        "id": "WLcH-0uFFjz-",
        "colab_type": "text"
      },
      "source": [
        ". Write a Python program to get the file size of a plain file."
      ]
    },
    {
      "cell_type": "code",
      "metadata": {
        "id": "Scp_rttzFtwd",
        "colab_type": "code",
        "colab": {}
      },
      "source": [
        "def file_size(fname):\n",
        "        import os\n",
        "        statinfo = os.stat(fname)\n",
        "        return statinfo.st_size\n",
        "\n",
        "print(\"File size in bytes of a plain file: \",file_size(\"test.txt\"))"
      ],
      "execution_count": null,
      "outputs": []
    },
    {
      "cell_type": "markdown",
      "metadata": {
        "id": "FBf7koYYFvap",
        "colab_type": "text"
      },
      "source": [
        "Write a Python program to copy the contents of a file to another file .\n"
      ]
    },
    {
      "cell_type": "code",
      "metadata": {
        "id": "hIZEVQv0F0Ri",
        "colab_type": "code",
        "colab": {}
      },
      "source": [
        "from shutil import copyfile\n",
        "copyfile('test.py', 'abc.py')\n"
      ],
      "execution_count": null,
      "outputs": []
    }
  ]
}
{
  "nbformat": 4,
  "nbformat_minor": 0,
  "metadata": {
    "colab": {
      "name": "assignment 2 module 3",
      "provenance": [],
      "authorship_tag": "ABX9TyMHsH9wYxjF6Q/V0CY0buau",
      "include_colab_link": true
    },
    "kernelspec": {
      "name": "python3",
      "display_name": "Python 3"
    }
  },
  "cells": [
    {
      "cell_type": "markdown",
      "metadata": {
        "id": "view-in-github",
        "colab_type": "text"
      },
      "source": [
        "<a href=\"https://colab.research.google.com/github/venkat7396/python/blob/master/assignment_2_module_3.ipynb\" target=\"_parent\"><img src=\"https://colab.research.google.com/assets/colab-badge.svg\" alt=\"Open In Colab\"/></a>"
      ]
    },
    {
      "cell_type": "code",
      "metadata": {
        "id": "OtabF7XnQxHS",
        "colab_type": "code",
        "colab": {
          "base_uri": "https://localhost:8080/",
          "height": 51
        },
        "outputId": "aa666958-7d7c-4040-f0f4-55d1fb21a3f4"
      },
      "source": [
        "# Python program to find square root\n",
        "\n",
        "num = int(input(\"Enter the value of num\"))\n",
        "num_sqrt = num ** 0.5\n",
        "print('The square root of %0.3f is %0.3f'%(num ,num_sqrt))\n"
      ],
      "execution_count": 1,
      "outputs": [
        {
          "output_type": "stream",
          "text": [
            "Enter the value of num4\n",
            "The square root of 4.000 is 2.000\n"
          ],
          "name": "stdout"
        }
      ]
    },
    {
      "cell_type": "markdown",
      "metadata": {
        "id": "127Z8pibQ9od",
        "colab_type": "text"
      },
      "source": [
        ""
      ]
    },
    {
      "cell_type": "markdown",
      "metadata": {
        "id": "UrqLlOrKRDn6",
        "colab_type": "text"
      },
      "source": [
        "# Python program to check if a number is positive , negative or 0.\n"
      ]
    },
    {
      "cell_type": "code",
      "metadata": {
        "id": "l7PMA8ViRJJz",
        "colab_type": "code",
        "colab": {
          "base_uri": "https://localhost:8080/",
          "height": 51
        },
        "outputId": "fb4ee8a9-f7bc-4788-b658-d881db1c4f6b"
      },
      "source": [
        "num = float(input(\"Enter a number: \"))\n",
        "if num > 0:\n",
        "   print(\"Positive number\")\n",
        "elif num == 0:\n",
        "   print(\"Zero\")\n",
        "else:\n",
        "   print(\"Negative number\")\n"
      ],
      "execution_count": 2,
      "outputs": [
        {
          "output_type": "stream",
          "text": [
            "Enter a number: 4\n",
            "Positive number\n"
          ],
          "name": "stdout"
        }
      ]
    },
    {
      "cell_type": "markdown",
      "metadata": {
        "id": "njqb5KqoRQLy",
        "colab_type": "text"
      },
      "source": [
        "# Python program to check leap year"
      ]
    },
    {
      "cell_type": "code",
      "metadata": {
        "id": "V6dXHbspRUus",
        "colab_type": "code",
        "colab": {
          "base_uri": "https://localhost:8080/",
          "height": 51
        },
        "outputId": "770fa403-e69e-4042-ae8a-0d2bca4bbc23"
      },
      "source": [
        "year = int(input(\"Enter the year: \"))\n",
        "if (year % 4) == 0:\n",
        "   if (year % 100) == 0:\n",
        "       if (year % 400) == 0:\n",
        "           print(\"{0} is a leap year\".format(year))\n",
        "       else:\n",
        "           print(\"{0} is not a leap year\".format(year))\n",
        "   else:\n",
        "       print(\"{0} is a leap year\".format(year))\n",
        "else:\n",
        "   print(\"{0} is not a leap year\".format(year))\n"
      ],
      "execution_count": 3,
      "outputs": [
        {
          "output_type": "stream",
          "text": [
            "Enter the year: 2010\n",
            "2010 is not a leap year\n"
          ],
          "name": "stdout"
        }
      ]
    },
    {
      "cell_type": "markdown",
      "metadata": {
        "id": "THgcDT_OReL1",
        "colab_type": "text"
      },
      "source": [
        "# Python program to print the fibonacci sequence.\n"
      ]
    },
    {
      "cell_type": "code",
      "metadata": {
        "id": "Crlv5CxkRjos",
        "colab_type": "code",
        "colab": {
          "base_uri": "https://localhost:8080/",
          "height": 204
        },
        "outputId": "4be975d6-c186-4852-f8e2-cfd1bdd0a610"
      },
      "source": [
        "n = int(input(\"How many terms? \"))\n",
        "n1 =int(input(\"Enter the staring value\"))\n",
        "n2 =int(input(\"Enter the second value\"))\n",
        "count = 0\n",
        "if n <= 0:\n",
        "   print(\"Please enter a positive integer\")\n",
        "elif n == 1:\n",
        "   print(\"Fibonacci sequence upto\",n,\":\")\n",
        "   print(n1)\n",
        "else:\n",
        "   print(\"Fibonacci sequence:\")\n",
        "   while count < n:\n",
        "       print(n1)\n",
        "       nth = n1 + n2\n",
        "# updating the values\n",
        "       n1 = n2\n",
        "       n2 = nth\n",
        "       count += 1\n"
      ],
      "execution_count": 4,
      "outputs": [
        {
          "output_type": "stream",
          "text": [
            "How many terms? 7\n",
            "Enter the staring value2\n",
            "Enter the second value4\n",
            "Fibonacci sequence:\n",
            "2\n",
            "4\n",
            "6\n",
            "10\n",
            "16\n",
            "26\n",
            "42\n"
          ],
          "name": "stdout"
        }
      ]
    },
    {
      "cell_type": "markdown",
      "metadata": {
        "id": "xjWIJoMDRuWg",
        "colab_type": "text"
      },
      "source": [
        "# Python program to check armstrong number.\n"
      ]
    },
    {
      "cell_type": "code",
      "metadata": {
        "id": "8OS6U95qRybL",
        "colab_type": "code",
        "colab": {
          "base_uri": "https://localhost:8080/",
          "height": 51
        },
        "outputId": "07f4ab1f-1fc3-4f17-d99a-6621aefb1a31"
      },
      "source": [
        "num = int(input(\"Enter a number: \"))\n",
        "sum = 0\n",
        "temp = num\n",
        "while temp > 0:\n",
        "   digit = temp % 10\n",
        "   sum += digit ** 3\n",
        "   temp //= 10\n",
        "if num == sum:\n",
        "   print(num,\"is an Armstrong number\")\n",
        "else:\n",
        "   print(num,\"is not an Armstrong number\")\n"
      ],
      "execution_count": 5,
      "outputs": [
        {
          "output_type": "stream",
          "text": [
            "Enter a number: 456\n",
            "456 is not an Armstrong number\n"
          ],
          "name": "stdout"
        }
      ]
    },
    {
      "cell_type": "markdown",
      "metadata": {
        "id": "nZyULBKtR9D3",
        "colab_type": "text"
      },
      "source": [
        "# Python program to find armstrong number in an interval.\n"
      ]
    },
    {
      "cell_type": "code",
      "metadata": {
        "id": "xeYaukSGR9-u",
        "colab_type": "code",
        "colab": {
          "base_uri": "https://localhost:8080/",
          "height": 119
        },
        "outputId": "40926cb4-5606-400f-fe30-7cc3633bbb65"
      },
      "source": [
        "lower = int(input(\"Enter the starting value\"))\n",
        "upper = int(input(\"Enter the ending value\"))\n",
        "for num in range(lower, upper + 1):\n",
        "   order = len(str(num))\n",
        "   sum = 0\n",
        "   temp = num\n",
        "   while temp > 0:\n",
        "       digit = temp % 10\n",
        "       sum += digit ** order\n",
        "       temp //= 10\n",
        "   if num == sum:\n",
        "       print(num)\n"
      ],
      "execution_count": 9,
      "outputs": [
        {
          "output_type": "stream",
          "text": [
            "Enter the starting value100\n",
            "Enter the ending value1000\n",
            "153\n",
            "370\n",
            "371\n",
            "407\n"
          ],
          "name": "stdout"
        }
      ]
    }
  ]
}
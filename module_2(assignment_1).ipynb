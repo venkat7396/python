{
  "nbformat": 4,
  "nbformat_minor": 0,
  "metadata": {
    "colab": {
      "name": "module 2(assignment 1)",
      "provenance": [],
      "authorship_tag": "ABX9TyNvo53p30+6eDwn2Vzqtg4T",
      "include_colab_link": true
    },
    "kernelspec": {
      "name": "python3",
      "display_name": "Python 3"
    }
  },
  "cells": [
    {
      "cell_type": "markdown",
      "metadata": {
        "id": "view-in-github",
        "colab_type": "text"
      },
      "source": [
        "<a href=\"https://colab.research.google.com/github/venkat7396/python/blob/master/module_2(assignment_1).ipynb\" target=\"_parent\"><img src=\"https://colab.research.google.com/assets/colab-badge.svg\" alt=\"Open In Colab\"/></a>"
      ]
    },
    {
      "cell_type": "code",
      "metadata": {
        "id": "APlQBbC6ylzt",
        "colab_type": "code",
        "colab": {}
      },
      "source": [
        "\n"
      ],
      "execution_count": null,
      "outputs": []
    },
    {
      "cell_type": "markdown",
      "metadata": {
        "id": "f2nEoG9qytRt",
        "colab_type": "text"
      },
      "source": [
        "1. take two inputs from user and check whether they are equal or not\n"
      ]
    },
    {
      "cell_type": "code",
      "metadata": {
        "id": "RTcCUZXhy86W",
        "colab_type": "code",
        "colab": {
          "base_uri": "https://localhost:8080/",
          "height": 68
        },
        "outputId": "325bddb0-08b4-438b-8af9-d2c59bcaca3a"
      },
      "source": [
        "a=input('enter the frist number')\n",
        "b=input('enter the second value')\n",
        "if a==b:\n",
        "  print('a is equal to b')\n",
        "else:\n",
        "  print('a is not equal to b')\n"
      ],
      "execution_count": 4,
      "outputs": [
        {
          "output_type": "stream",
          "text": [
            "enter the frist number4\n",
            "enter the second value4\n",
            "a is equal to b\n"
          ],
          "name": "stdout"
        }
      ]
    },
    {
      "cell_type": "markdown",
      "metadata": {
        "id": "SKQ49Gi10uGh",
        "colab_type": "text"
      },
      "source": [
        "2.take 3 inputs from user and check:\n",
        "all are equal\n",
        "any two are equal\n",
        "(use and or)"
      ]
    },
    {
      "cell_type": "code",
      "metadata": {
        "id": "AOOxpAHezbSu",
        "colab_type": "code",
        "colab": {
          "base_uri": "https://localhost:8080/",
          "height": 102
        },
        "outputId": "67eb42bf-af49-4191-f468-adef66739848"
      },
      "source": [
        "a=input('enter the frist number')\n",
        "b=input('enter the second number')\n",
        "c=input('enter the thrid number')\n",
        "d=a==b and b==c and c==a\n",
        "print('all are equal',d)\n",
        "print('any two are equal')"
      ],
      "execution_count": 7,
      "outputs": [
        {
          "output_type": "stream",
          "text": [
            "enter the frist number3\n",
            "enter the second number4\n",
            "enter the thrid number3\n",
            "all are equal False\n",
            "any two are equal\n"
          ],
          "name": "stdout"
        }
      ]
    },
    {
      "cell_type": "markdown",
      "metadata": {
        "id": "jc97RfZ_2buH",
        "colab_type": "text"
      },
      "source": [
        "3.take two number and check whether the sum is greater than 5,less than 5, or euaal to 5 "
      ]
    },
    {
      "cell_type": "code",
      "metadata": {
        "id": "YQfm3amqzbRH",
        "colab_type": "code",
        "colab": {}
      },
      "source": [
        "a=input('enter the frist number')\n",
        "b=input('enter the second number')\n",
        "sum=a+b\n",
        "if sum>5:\n",
        "print( 'sum  is greater than five')\n",
        "print('sum is equal five:')\n",
        "print('sum is less than five:')\n"
      ],
      "execution_count": null,
      "outputs": []
    },
    {
      "cell_type": "markdown",
      "metadata": {
        "id": "gHUbIRVo6IrC",
        "colab_type": "text"
      },
      "source": [
        "4.suppose passing marks of a subject is 35. take input of marks from user and check whether is greater than passing marks or not\n"
      ]
    },
    {
      "cell_type": "code",
      "metadata": {
        "id": "twe0B7zf6-FK",
        "colab_type": "code",
        "colab": {}
      },
      "source": [
        "pm=35\n",
        "marks=input('enter the marks')\n",
        "if marks>pm:\n",
        "print('marks are greater than passing marks')\n"
      ],
      "execution_count": null,
      "outputs": []
    },
    {
      "cell_type": "markdown",
      "metadata": {
        "id": "b8LgQuKz5Krx",
        "colab_type": "text"
      },
      "source": [
        ""
      ]
    }
  ]
}
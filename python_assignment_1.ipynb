{
  "nbformat": 4,
  "nbformat_minor": 0,
  "metadata": {
    "colab": {
      "name": "python assignment-1",
      "provenance": [],
      "collapsed_sections": [],
      "authorship_tag": "ABX9TyNnabez4luKPVSahWKHClFn",
      "include_colab_link": true
    },
    "kernelspec": {
      "name": "python3",
      "display_name": "Python 3"
    }
  },
  "cells": [
    {
      "cell_type": "markdown",
      "metadata": {
        "id": "view-in-github",
        "colab_type": "text"
      },
      "source": [
        "<a href=\"https://colab.research.google.com/github/venkat7396/python/blob/master/python_assignment_1.ipynb\" target=\"_parent\"><img src=\"https://colab.research.google.com/assets/colab-badge.svg\" alt=\"Open In Colab\"/></a>"
      ]
    },
    {
      "cell_type": "code",
      "metadata": {
        "id": "uCGlOpdwPQ4Z",
        "colab_type": "code",
        "colab": {}
      },
      "source": [
        "hi"
      ],
      "execution_count": null,
      "outputs": []
    },
    {
      "cell_type": "markdown",
      "metadata": {
        "id": "q3z6cQj0PUVs",
        "colab_type": "text"
      },
      "source": [
        "# write the program of simple calculator for the operator\n",
        "# +(addition)"
      ]
    },
    {
      "cell_type": "code",
      "metadata": {
        "id": "rMCkgMnPQNNO",
        "colab_type": "code",
        "colab": {
          "base_uri": "https://localhost:8080/",
          "height": 68
        },
        "outputId": "938fdc7c-e910-492c-a954-3b0ee313d94d"
      },
      "source": [
        "a=int(input('enter the value of a'))\n",
        "b=int(input('enter the value of b'))\n",
        "print('addition of two number',a+b)\n"
      ],
      "execution_count": null,
      "outputs": [
        {
          "output_type": "stream",
          "text": [
            "enter the value of a5\n",
            "enter the value of b6\n",
            "addition of two number 11\n"
          ],
          "name": "stdout"
        }
      ]
    },
    {
      "cell_type": "markdown",
      "metadata": {
        "id": "t7wIBwGRQqtH",
        "colab_type": "text"
      },
      "source": [
        "-(subtraction)\n"
      ]
    },
    {
      "cell_type": "markdown",
      "metadata": {
        "id": "xyUGt3qRRZ0-",
        "colab_type": "text"
      },
      "source": [
        ""
      ]
    },
    {
      "cell_type": "code",
      "metadata": {
        "id": "NAicZYyNQxap",
        "colab_type": "code",
        "colab": {
          "base_uri": "https://localhost:8080/",
          "height": 68
        },
        "outputId": "5e96206b-5aa4-4066-d734-d646d8c687ec"
      },
      "source": [
        "a=int(input('enter the value of a'))\n",
        "b=int(input('enter the value of b'))\n",
        "print('subtraction of two number',a-b)\n"
      ],
      "execution_count": null,
      "outputs": [
        {
          "output_type": "stream",
          "text": [
            "enter the value of a6\n",
            "enter the value of b8\n",
            "subtraction of two number -2\n"
          ],
          "name": "stdout"
        }
      ]
    },
    {
      "cell_type": "code",
      "metadata": {
        "id": "CKiwNpwXQ5sb",
        "colab_type": "code",
        "colab": {}
      },
      "source": [
        ""
      ],
      "execution_count": null,
      "outputs": []
    },
    {
      "cell_type": "markdown",
      "metadata": {
        "id": "-Vze8gsfRh3-",
        "colab_type": "text"
      },
      "source": [
        "*(multiplication)\n"
      ]
    },
    {
      "cell_type": "code",
      "metadata": {
        "id": "TmdEaXfLUHs3",
        "colab_type": "code",
        "colab": {
          "base_uri": "https://localhost:8080/",
          "height": 68
        },
        "outputId": "db1b990b-d54d-4389-9471-142accd27948"
      },
      "source": [
        "a=int(input('enter the value of a'))\n",
        "b=int(input('enter the value of b'))\n",
        "print('multiplication of two number',a*b)"
      ],
      "execution_count": null,
      "outputs": [
        {
          "output_type": "stream",
          "text": [
            "enter the value of a5\n",
            "enter the value of b8\n",
            "multiplication of two number 40\n"
          ],
          "name": "stdout"
        }
      ]
    },
    {
      "cell_type": "markdown",
      "metadata": {
        "id": "jwBUHysGUqcJ",
        "colab_type": "text"
      },
      "source": [
        "/(division)"
      ]
    },
    {
      "cell_type": "code",
      "metadata": {
        "id": "t_9c39HGUzlh",
        "colab_type": "code",
        "colab": {
          "base_uri": "https://localhost:8080/",
          "height": 68
        },
        "outputId": "b6321f88-89cd-40bb-8a14-cba1a488b931"
      },
      "source": [
        "a=int(input('enter the value of a'))\n",
        "b=int(input('enter the value of b'))\n",
        "print('division of two number',a/b)"
      ],
      "execution_count": null,
      "outputs": [
        {
          "output_type": "stream",
          "text": [
            "enter the value of a5\n",
            "enter the value of b7\n",
            "division of two number 0.7142857142857143\n"
          ],
          "name": "stdout"
        }
      ]
    },
    {
      "cell_type": "markdown",
      "metadata": {
        "id": "k9vOjMdKVKiI",
        "colab_type": "text"
      },
      "source": [
        "%(modulus)\n"
      ]
    },
    {
      "cell_type": "code",
      "metadata": {
        "id": "eINgbHH-VP3S",
        "colab_type": "code",
        "colab": {
          "base_uri": "https://localhost:8080/",
          "height": 68
        },
        "outputId": "a32243bc-225b-4469-ea0e-722325cd4ea0"
      },
      "source": [
        "a=int(input('enter the value of a'))\n",
        "b=int(input('enter the value of b'))\n",
        "print('modulus of two number',a%b)"
      ],
      "execution_count": null,
      "outputs": [
        {
          "output_type": "stream",
          "text": [
            "enter the value of a3\n",
            "enter the value of b4\n",
            "modulus of two number 3\n"
          ],
          "name": "stdout"
        }
      ]
    },
    {
      "cell_type": "markdown",
      "metadata": {
        "id": "9d8ZTlKoVoLf",
        "colab_type": "text"
      },
      "source": [
        "**(exponent)"
      ]
    },
    {
      "cell_type": "code",
      "metadata": {
        "id": "iIPb09jfVwsU",
        "colab_type": "code",
        "colab": {
          "base_uri": "https://localhost:8080/",
          "height": 68
        },
        "outputId": "3b9ccbe9-4fab-486f-a643-dbd9cf19a22f"
      },
      "source": [
        "a=int(input('enter the value of a'))\n",
        "b=int(input('enter the value of b'))\n",
        "print('exponent of two number',a**b)"
      ],
      "execution_count": null,
      "outputs": [
        {
          "output_type": "stream",
          "text": [
            "enter the value of a5\n",
            "enter the value of b8\n",
            "exponent of two number 390625\n"
          ],
          "name": "stdout"
        }
      ]
    },
    {
      "cell_type": "markdown",
      "metadata": {
        "id": "gbwR6Xg5WF8Q",
        "colab_type": "text"
      },
      "source": [
        "//(floor division)"
      ]
    },
    {
      "cell_type": "code",
      "metadata": {
        "id": "-U4-AtcvWKuu",
        "colab_type": "code",
        "colab": {
          "base_uri": "https://localhost:8080/",
          "height": 68
        },
        "outputId": "843a4bcf-491b-42e1-8554-998bbfd55e04"
      },
      "source": [
        "a=int(input('enter the value of a'))\n",
        "b=int(input('enter the value of b'))\n",
        "print('floor gdivision of two number',a//b)"
      ],
      "execution_count": null,
      "outputs": [
        {
          "output_type": "stream",
          "text": [
            "enter the value of a6\n",
            "enter the value of b7\n",
            "floor gdivision of two number 0\n"
          ],
          "name": "stdout"
        }
      ]
    },
    {
      "cell_type": "markdown",
      "metadata": {
        "id": "IT4kn1aJWk8d",
        "colab_type": "text"
      },
      "source": [
        "2.write a python program to calulate simple interest\n",
        " "
      ]
    },
    {
      "cell_type": "code",
      "metadata": {
        "id": "3lROzcjLX0lC",
        "colab_type": "code",
        "colab": {
          "base_uri": "https://localhost:8080/",
          "height": 34
        },
        "outputId": "2a54326e-62c9-48bd-812d-27a302062dc1"
      },
      "source": [
        "P=1000\n",
        "R=3\n",
        "T=4\n",
        "SI=(P*R*T)/100\n",
        "print('simple interest',SI)"
      ],
      "execution_count": null,
      "outputs": [
        {
          "output_type": "stream",
          "text": [
            "simple interest 120.0\n"
          ],
          "name": "stdout"
        }
      ]
    },
    {
      "cell_type": "markdown",
      "metadata": {
        "id": "OQYmTLztYJXV",
        "colab_type": "text"
      },
      "source": [
        "3. write a python program to calculate area of circle"
      ]
    },
    {
      "cell_type": "code",
      "metadata": {
        "id": "PG4aIBnbYUwL",
        "colab_type": "code",
        "colab": {
          "base_uri": "https://localhost:8080/",
          "height": 51
        },
        "outputId": "1b130e42-da5e-40c9-8566-b788debad2a3"
      },
      "source": [
        " PI=3.14\n",
        " r=float(input('enter the radius'))\n",
        " Area=PI*r*r\n",
        " print('area of circle',Area)"
      ],
      "execution_count": null,
      "outputs": [
        {
          "output_type": "stream",
          "text": [
            "enter the radius5\n",
            "area of circle 78.5\n"
          ],
          "name": "stdout"
        }
      ]
    },
    {
      "cell_type": "markdown",
      "metadata": {
        "id": "BSxkYRXzZ5oL",
        "colab_type": "text"
      },
      "source": [
        "4.write a python program to calculate area of triangle"
      ]
    },
    {
      "cell_type": "code",
      "metadata": {
        "id": "lsMCAp2zaM7U",
        "colab_type": "code",
        "colab": {
          "base_uri": "https://localhost:8080/",
          "height": 85
        },
        "outputId": "1dda922d-8689-499b-ec00-f283283b80f7"
      },
      "source": [
        "a=float(input('enter the frist side'))\n",
        "b=float(input('enter the second side'))\n",
        "c=float(input('enter the thrid side'))\n",
        "s=(a+b+c/2)\n",
        "area=(s*(s-a)*(s-b)*(s-c))**0.5\n",
        "print('area of triangle ',area)"
      ],
      "execution_count": null,
      "outputs": [
        {
          "output_type": "stream",
          "text": [
            "enter the frist side4.5\n",
            "enter the second side4\n",
            "enter the thrid side5\n",
            "area of triangle  54.79963503528103\n"
          ],
          "name": "stdout"
        }
      ]
    },
    {
      "cell_type": "markdown",
      "metadata": {
        "id": "eSl2ip6ucxJZ",
        "colab_type": "text"
      },
      "source": [
        "5.write a python program to temperature in celsius to fahrenheit\n"
      ]
    },
    {
      "cell_type": "code",
      "metadata": {
        "id": "6ozENTdrdF5X",
        "colab_type": "code",
        "colab": {
          "base_uri": "https://localhost:8080/",
          "height": 34
        },
        "outputId": "3c3a73c9-0047-4d39-97a2-bd347a2ffd52"
      },
      "source": [
        "celsius=37.5\n",
        "f=(celsius*1.8)+32\n",
        "print('%0.1f degree celsius equal to 0.1f degree f',(celsius,f))"
      ],
      "execution_count": null,
      "outputs": [
        {
          "output_type": "stream",
          "text": [
            "%0.1f degree celsius equal to 0.1f degree f (37.5, 99.5)\n"
          ],
          "name": "stdout"
        }
      ]
    },
    {
      "cell_type": "code",
      "metadata": {
        "id": "spLE3wBEdjJ7",
        "colab_type": "code",
        "colab": {}
      },
      "source": [
        ""
      ],
      "execution_count": null,
      "outputs": []
    },
    {
      "cell_type": "markdown",
      "metadata": {
        "id": "K5AsC5e2eq59",
        "colab_type": "text"
      },
      "source": [
        "6. write a python program to calculate area of rectangle"
      ]
    },
    {
      "cell_type": "code",
      "metadata": {
        "id": "TI9NBRjae3MX",
        "colab_type": "code",
        "colab": {
          "base_uri": "https://localhost:8080/",
          "height": 68
        },
        "outputId": "fcb9d8c8-901f-459c-d180-7150aed9d03f"
      },
      "source": [
        "length=int(input('enter the length'))\n",
        "breadth=int(input('enter the value of breadth'))\n",
        "area=length*breadth\n",
        "print('area of rectangle',area)\n"
      ],
      "execution_count": null,
      "outputs": [
        {
          "output_type": "stream",
          "text": [
            "enter the length4\n",
            "enter the value of breadth6\n",
            "area of rectangle 24\n"
          ],
          "name": "stdout"
        }
      ]
    },
    {
      "cell_type": "markdown",
      "metadata": {
        "id": "-J5_IteGg4OZ",
        "colab_type": "text"
      },
      "source": [
        "7.write a python program to calculate perimeter of square"
      ]
    },
    {
      "cell_type": "code",
      "metadata": {
        "id": "RhMY48qNhJfH",
        "colab_type": "code",
        "colab": {
          "base_uri": "https://localhost:8080/",
          "height": 51
        },
        "outputId": "7764aedf-d7b6-4507-a85a-12c14d31b50c"
      },
      "source": [
        "s=int(input('enter the length of any side'))\n",
        "perimeter=4*s\n",
        "print('perimeter of square',perimeter)"
      ],
      "execution_count": null,
      "outputs": [
        {
          "output_type": "stream",
          "text": [
            "enter the length of any side5\n",
            "perimeter of square 20\n"
          ],
          "name": "stdout"
        }
      ]
    },
    {
      "cell_type": "markdown",
      "metadata": {
        "id": "LzdRJ33XlBs2",
        "colab_type": "text"
      },
      "source": [
        "8.write a python program to calculate circumference of a circle\n"
      ]
    },
    {
      "cell_type": "code",
      "metadata": {
        "id": "kOhGH_vClOJ-",
        "colab_type": "code",
        "colab": {
          "base_uri": "https://localhost:8080/",
          "height": 51
        },
        "outputId": "6d927bb5-bde3-4bfc-e32d-37b8baa36f95"
      },
      "source": [
        "r= float(input('enter the radius of circle'))\n",
        "circumference=2*3.14*r\n",
        "print('circumference of circle',circumference)"
      ],
      "execution_count": null,
      "outputs": [
        {
          "output_type": "stream",
          "text": [
            "enter the radius of circle6.7\n",
            "circumference of circle 42.076\n"
          ],
          "name": "stdout"
        }
      ]
    },
    {
      "cell_type": "markdown",
      "metadata": {
        "id": "lTSpzECymKx-",
        "colab_type": "text"
      },
      "source": [
        "9.write a python program to  swap two number\n"
      ]
    },
    {
      "cell_type": "code",
      "metadata": {
        "id": "VV8WS7LqmSke",
        "colab_type": "code",
        "colab": {
          "base_uri": "https://localhost:8080/",
          "height": 51
        },
        "outputId": "28170cf8-e3d3-400e-bad6-3ea4214b8646"
      },
      "source": [
        "x=10\n",
        "y=5\n",
        "temp=x\n",
        "x=y\n",
        "y=temp\n",
        "print('the x value after swaping',x)\n",
        "print('the y value after swaping',y)"
      ],
      "execution_count": null,
      "outputs": [
        {
          "output_type": "stream",
          "text": [
            "the x value after swaping 5\n",
            "the y value after swaping 10\n"
          ],
          "name": "stdout"
        }
      ]
    },
    {
      "cell_type": "code",
      "metadata": {
        "id": "EHjOJQYqRn4M",
        "colab_type": "code",
        "colab": {}
      },
      "source": [
        ""
      ],
      "execution_count": null,
      "outputs": []
    },
    {
      "cell_type": "markdown",
      "metadata": {
        "id": "vlNRv15neox0",
        "colab_type": "text"
      },
      "source": [
        ""
      ]
    },
    {
      "cell_type": "markdown",
      "metadata": {
        "id": "UMcv3AeUSSPU",
        "colab_type": "text"
      },
      "source": [
        ""
      ]
    }
  ]
}